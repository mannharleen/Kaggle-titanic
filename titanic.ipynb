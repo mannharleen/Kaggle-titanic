{
 "cells": [
  {
   "cell_type": "code",
   "execution_count": 56,
   "metadata": {
    "collapsed": false
   },
   "outputs": [],
   "source": [
    "#V0.12\n",
    "#Changing clf from Logistic-Reg to RandomforestClassifier\n",
    "\n",
    "import pandas as pd\n",
    "import numpy as np\n",
    "from sklearn.preprocessing import Imputer\n",
    "from sklearn.preprocessing import LabelEncoder\n",
    "from sklearn.preprocessing import OneHotEncoder\n",
    "from sklearn.model_selection import train_test_split\n",
    "from sklearn.model_selection import GridSearchCV\n",
    "from sklearn.metrics import classification_report\n",
    "from sklearn.pipeline import Pipeline\n",
    "from sklearn.preprocessing import FunctionTransformer\n",
    "from sklearn.pipeline import FeatureUnion\n",
    "from sklearn.preprocessing import StandardScaler\n",
    "from sklearn.linear_model import LogisticRegression\n",
    "from sklearn.decomposition import PCA\n",
    "from sklearn.feature_selection import SelectKBest\n",
    "from sklearn.feature_selection import VarianceThreshold\n",
    "from sklearn.feature_selection import SelectFromModel\n",
    "from sklearn.ensemble import RandomForestClassifier"
   ]
  },
  {
   "cell_type": "code",
   "execution_count": 57,
   "metadata": {
    "collapsed": false
   },
   "outputs": [
    {
     "name": "stdout",
     "output_type": "stream",
     "text": [
      "(891, 12)\n",
      "(418, 11)\n"
     ]
    }
   ],
   "source": [
    "#read csv\n",
    "train = pd.read_csv('/home/centos/My notebooks/Titanic dataset/train.csv')\n",
    "X_kaggle = pd.read_csv(r'/home/centos/My notebooks/Titanic dataset/test.csv')\n",
    "\n",
    "print train.shape\n",
    "print X_kaggle.shape"
   ]
  },
  {
   "cell_type": "code",
   "execution_count": 58,
   "metadata": {
    "collapsed": false
   },
   "outputs": [
    {
     "name": "stdout",
     "output_type": "stream",
     "text": [
      "<class 'pandas.core.frame.DataFrame'>\n",
      "RangeIndex: 891 entries, 0 to 890\n",
      "Data columns (total 12 columns):\n",
      "PassengerId    891 non-null int64\n",
      "Survived       891 non-null int64\n",
      "Pclass         891 non-null int64\n",
      "Name           891 non-null object\n",
      "Sex            891 non-null object\n",
      "Age            714 non-null float64\n",
      "SibSp          891 non-null int64\n",
      "Parch          891 non-null int64\n",
      "Ticket         891 non-null object\n",
      "Fare           891 non-null float64\n",
      "Cabin          204 non-null object\n",
      "Embarked       889 non-null object\n",
      "dtypes: float64(2), int64(5), object(5)\n",
      "memory usage: 83.6+ KB\n"
     ]
    },
    {
     "data": {
      "text/plain": [
       "PassengerId      0\n",
       "Survived         0\n",
       "Pclass           0\n",
       "Name             0\n",
       "Sex              0\n",
       "Age            177\n",
       "SibSp            0\n",
       "Parch            0\n",
       "Ticket           0\n",
       "Fare             0\n",
       "Cabin          687\n",
       "Embarked         2\n",
       "dtype: int64"
      ]
     },
     "execution_count": 58,
     "metadata": {},
     "output_type": "execute_result"
    }
   ],
   "source": [
    "#basic info\n",
    "train.info()\n",
    "train.isnull().sum()"
   ]
  },
  {
   "cell_type": "code",
   "execution_count": 59,
   "metadata": {
    "collapsed": false
   },
   "outputs": [],
   "source": [
    "#pd.DataFrame(StandardScaler().fit_transform(train[['Fare']]),columns=['a'])"
   ]
  },
  {
   "cell_type": "code",
   "execution_count": 60,
   "metadata": {
    "collapsed": false
   },
   "outputs": [],
   "source": [
    "#Function transformers\n",
    "func_transformer_get_numeric_features = FunctionTransformer(lambda x: x.select_dtypes(['float64','int64']),validate=False)\n",
    "func_transformer_get_text_features = FunctionTransformer(lambda x: x.select_dtypes(['object']),validate=False)\n",
    "\n",
    "#Label encoder works on each column\n",
    "#func_transformer_labelencoder = FunctionTransformer(lambda x: x.apply(LabelEncoder().fit_transform, axis=0),validate=False)\n",
    "func_transformer_labelencoder = FunctionTransformer(lambda x: x.apply(lambda x: pd.factorize(x)[0], axis=0,broadcast=True),validate=False)\n",
    "#\n",
    "func_transformer_convert_pd_np = FunctionTransformer(lambda x: x.as_matrix(),validate=False)\n",
    "#Onehot works on np matrix\n",
    "#func_transformer_onehotencoder = FunctionTransformer(lambda x: OneHotEncoder(sparse=False).fit_transform(x),validate=False)\n",
    "func_transformer_onehotencoder = FunctionTransformer(lambda x: pd.get_dummies(x),validate=False)\n",
    "#For debugging\n",
    "func_print_stuff = FunctionTransformer(lambda x: func_print(x), validate=False)\n",
    "def func_print(x):\n",
    "    print 'x.shape ' ,  x.shape\n",
    "    \n",
    "    #try:\n",
    "        #print 'x.columns ' ,  x.head()\n",
    "    #except:\n",
    "    #    pass\n",
    "    return x\n",
    "\n",
    "#Impute features\n",
    "func_transformer_imputer = FunctionTransformer(lambda x: x.apply(lambda x: func_func_transformer_imputer(x),axis=0,broadcast=True),validate=False)\n",
    "def func_func_transformer_imputer(x):    \n",
    "    #print '!!!x.dtype ', x.dtype\n",
    "    if x.dtype == 'object':\n",
    "        x_ret = x.fillna(x.value_counts().index[0])\n",
    "        #print x.value_counts().index[0]\n",
    "    elif x.dtype in ['float64','int64']:\n",
    "        x_ret = x.fillna(x.median()) #,inplace=True\n",
    "        #print x.max(), x.median()\n",
    "    return x_ret\n",
    "\n",
    "func_transformer_engineer_text = FunctionTransformer(lambda x: func_func_transformer_engineer_text(x),validate=False)\n",
    "def func_func_transformer_engineer_text(x):\n",
    "    x_ret = pd.DataFrame()    \n",
    "    x_ret['Sirname_'] = x.Name.apply(lambda x: (x.split(',')[0]))\n",
    "    x_ret['Title_'] = x.Name.apply(lambda x: x.split(',')[1]).apply(lambda x: x.split('.')[0])\n",
    "    temp = x.Ticket.map(lambda x: x.replace('/','').replace(',','').replace('.','').replace(' ','').strip())\n",
    "    x_ret['Ticket_'] = temp.map(lambda x: 'XXX' if x.isdigit() else ''.join(list(filter(lambda y: not y.isdigit(),x))) )\n",
    "    return x_ret\n",
    "    #return np.ones(x.shape)\n",
    "    \n",
    "func_transformer_engineer_numeric = FunctionTransformer(lambda x: func_func_transformer_engineer_numeric(x),validate=False)\n",
    "def func_func_transformer_engineer_numeric(x):\n",
    "    x_ret = pd.DataFrame()\n",
    "    x_ret['FamilySize_'] = x.SibSp + x.Parch\n",
    "    return x_ret\n",
    "    \n",
    "func_transformer_drop_manual = FunctionTransformer(lambda x: x.drop(['Name','PassengerId','Ticket'], axis=1))"
   ]
  },
  {
   "cell_type": "code",
   "execution_count": 61,
   "metadata": {
    "collapsed": false
   },
   "outputs": [
    {
     "name": "stdout",
     "output_type": "stream",
     "text": [
      "X.shape (1309, 11)\n",
      "y.shape (1309,)\n"
     ]
    }
   ],
   "source": [
    "#1st cut model (combine all)\n",
    "combine = pd.concat([train,X_kaggle])\n",
    "\n",
    "#combine_dropna = pd.concat([train.dropna(),X_kaggle.dropna()])\n",
    "#print 'train.dropna().shape', train.dropna().shape\n",
    "#print 'X_kaggle.dropna().shape', X_kaggle.dropna().shape\n",
    "#X = combine_dropna.drop(['Survived','Name','PassengerId','Ticket'], axis=1)\n",
    "#y = combine_dropna['Survived'] #.values.reshape(-1,1)\n",
    "\n",
    "#X = combine.drop(['Survived','Name','PassengerId','Ticket'], axis=1)\n",
    "X = combine.drop(['Survived'],axis=1)\n",
    "y = combine['Survived'] \n",
    "\n",
    "print 'X.shape', X.shape\n",
    "print 'y.shape', y.shape\n",
    "\n",
    "#Feature transformations:-\n",
    "pipe = Pipeline([\n",
    "    \n",
    "    ('feature_union1', FeatureUnion(\n",
    "        [\n",
    "            ('text_pipeline' , Pipeline([\n",
    "                ('func1_get_text', func_transformer_get_text_features),\n",
    "                ('func_print1', func_print_stuff),\n",
    "                ('impute_text', func_transformer_imputer),\n",
    "                \n",
    "                ('encode1' , func_transformer_labelencoder),\n",
    "                #('impute_text' , Imputer(strategy='most_frequent')), Do not use the inbuild imputer, since it requires human touch\n",
    "                #('func_pd2np', func_transformer_convert_pd_np),\n",
    "                ('encode2' , func_transformer_onehotencoder),\n",
    "                ('func_print', func_print_stuff)\n",
    "            ])\n",
    "            ) \n",
    "            ,\n",
    "            ('numeric_pipeline', Pipeline([\n",
    "                ('func1_get_numeric', func_transformer_get_numeric_features),\n",
    "                ('func_print1', func_print_stuff),\n",
    "                ('impute_numeric', func_transformer_imputer),\n",
    "                #('impute_numeric' , Imputer(strategy='median')),\n",
    "                #('func_pd2np', func_transformer_convert_pd_np),\n",
    "                ('scale', StandardScaler()),\n",
    "                ('func_print', func_print_stuff)\n",
    "\n",
    "            ])\n",
    "            )\n",
    "            ,\n",
    "            ('engineer_pipeline_text', Pipeline([\n",
    "                ('engineer_text', func_transformer_engineer_text),\n",
    "                ('encode1' , func_transformer_labelencoder),\n",
    "                ('encode2' , func_transformer_onehotencoder)\n",
    "            ]\n",
    "            )\n",
    "            )\n",
    "            ,\n",
    "            ('engineer_pipeline_numeric', Pipeline([\n",
    "                ('engineer_text', func_transformer_engineer_numeric),\n",
    "             \n",
    "            ]\n",
    "            )\n",
    "            )            \n",
    "            \n",
    "            \n",
    "        ]\n",
    "        )\n",
    "    )\n",
    "    #,\n",
    "    #drop features manually\n",
    "    #('feature_drop_manual', func_transformer_drop_manual)\n",
    "])  \n",
    "\n"
   ]
  },
  {
   "cell_type": "code",
   "execution_count": 62,
   "metadata": {
    "collapsed": false
   },
   "outputs": [
    {
     "name": "stdout",
     "output_type": "stream",
     "text": [
      "x.shape  (1309, 5)\n",
      "x.shape  (1309, 2427)\n",
      "x.shape  (1309, 6)\n",
      "x.shape  (1309, 6)\n"
     ]
    }
   ],
   "source": [
    "#Obtain the transformed feature matrix\n",
    "\n",
    "X_transformed = pipe.fit_transform(X,y)\n",
    "y_transformed = y\n",
    "\n"
   ]
  },
  {
   "cell_type": "code",
   "execution_count": 63,
   "metadata": {
    "collapsed": false
   },
   "outputs": [
    {
     "name": "stdout",
     "output_type": "stream",
     "text": [
      "(891, 3360)\n",
      "(418, 3360)\n"
     ]
    }
   ],
   "source": [
    "print X_transformed[0:891].shape #\n",
    "print X_transformed[891:].shape # "
   ]
  },
  {
   "cell_type": "code",
   "execution_count": 64,
   "metadata": {
    "collapsed": false
   },
   "outputs": [
    {
     "name": "stdout",
     "output_type": "stream",
     "text": [
      "X_train.shape (668, 3360)\n",
      "X_test.shape (223, 3360)\n"
     ]
    },
    {
     "data": {
      "text/plain": [
       "GridSearchCV(cv=3, error_score='raise',\n",
       "       estimator=Pipeline(steps=[('feature_union2', FeatureUnion(n_jobs=1,\n",
       "       transformer_list=[('pca', PCA(copy=True, iterated_power='auto', n_components=None, random_state=None,\n",
       "  svd_solver='auto', tol=0.0, whiten=False)), ('select_from_model', SelectFromModel(estimator=RandomForestClassifier(bootstrap=True, class_wei...imators=10, n_jobs=1, oob_score=False, random_state=None,\n",
       "            verbose=0, warm_start=False))]),\n",
       "       fit_params={}, iid=True, n_jobs=1,\n",
       "       param_grid={'feature_union2__pca__n_components': [1, 21, 41, 61, 81], 'clf2__n_estimators': [1, 6, 11, 16, 21, 26, 31, 36, 41, 46], 'clf2__criterion': ['gini', 'entropy'], 'clf1': [None], 'feature_union2__select_from_model__threshold': ['median'], 'clf2__min_samples_split': [2, 6, 10, 14, 18, 22, 26, 30, 34, 38, 42, 46]},\n",
       "       pre_dispatch='2*n_jobs', refit=True, return_train_score=True,\n",
       "       scoring=None, verbose=0)"
      ]
     },
     "execution_count": 64,
     "metadata": {},
     "output_type": "execute_result"
    }
   ],
   "source": [
    "#Train test split of transformed features\n",
    "X_train,X_test, y_train,y_test = train_test_split(X_transformed[0:891],y_transformed[0:891], stratify = y_transformed[0:891])\n",
    "\n",
    "print 'X_train.shape', X_train.shape\n",
    "print 'X_test.shape', X_test.shape\n",
    "\n",
    "#Model building\n",
    "pipe1 = Pipeline([\n",
    "    ('feature_union2', FeatureUnion(\n",
    "            [\n",
    "                ('pca', PCA())\n",
    "#                 ,                \n",
    "#                 ('pipe_feature_sel', Pipeline([\n",
    "#                     ('variancethreshold', VarianceThreshold()),\n",
    "#                     ('selectKbest', SelectKBest())\n",
    "                    \n",
    "#                 ]))\n",
    "                ,\n",
    "                ('select_from_model', SelectFromModel(estimator=RandomForestClassifier()))\n",
    " \n",
    "            ]\n",
    "        )\n",
    "    )\n",
    "    ,\n",
    "    #('func_print', func_print_stuff),\n",
    "    ('clf1', LogisticRegression())\n",
    "    ,\n",
    "    ('clf2', RandomForestClassifier())\n",
    "])\n",
    "\n",
    "param = {#'clf1__C': np.arange(.01,1,.01)  \\\n",
    "         #, 'feature_union2__pipe_feature_sel__selectKbest__k' : range(0,400,40) \\\n",
    "          'feature_union2__pca__n_components' : range(1,100,20) \\\n",
    "         #, 'feature_union2__select_from_model__estimator' : [RandomForestClassifier()] \\\n",
    "         , 'feature_union2__select_from_model__threshold' : ['median'] \\\n",
    "         , 'clf1' : [None] \\\n",
    "         , 'clf2__n_estimators' : range(1,50,5) \n",
    "         , 'clf2__criterion' : ['gini','entropy']\n",
    "        , 'clf2__min_samples_split' : range(2,50,4)\n",
    "        }\n",
    "\n",
    "clf = GridSearchCV(pipe1, param_grid=param, cv=3)\n",
    "clf.fit(X_train,y_train)\n"
   ]
  },
  {
   "cell_type": "code",
   "execution_count": 65,
   "metadata": {
    "collapsed": false
   },
   "outputs": [
    {
     "name": "stdout",
     "output_type": "stream",
     "text": [
      "Pipeline(steps=[('feature_union2', FeatureUnion(n_jobs=1,\n",
      "       transformer_list=[('pca', PCA(copy=True, iterated_power='auto', n_components=41, random_state=None,\n",
      "  svd_solver='auto', tol=0.0, whiten=False)), ('select_from_model', SelectFromModel(estimator=RandomForestClassifier(bootstrap=True, class_weigh...imators=31, n_jobs=1, oob_score=False, random_state=None,\n",
      "            verbose=0, warm_start=False))])\n",
      "0.833832335329\n",
      "0.820627802691\n"
     ]
    }
   ],
   "source": [
    "print clf.best_estimator_\n",
    "print clf.best_score_\n",
    "print clf.score(X_test,y_test)\n",
    "\n",
    "#Last result\n",
    "#0.832335329341\n",
    "#0.825112107623"
   ]
  },
  {
   "cell_type": "code",
   "execution_count": 66,
   "metadata": {
    "collapsed": false
   },
   "outputs": [],
   "source": [
    "\n",
    "y_kaggle = clf.predict(X_transformed[891:])\n",
    "pd.DataFrame(list(zip(X_kaggle.PassengerId,y_kaggle.astype(int))), columns=['PassengerId','Survived']).to_csv('/home/centos/My notebooks/Titanic dataset/output.csv', index=False)"
   ]
  },
  {
   "cell_type": "code",
   "execution_count": 67,
   "metadata": {
    "collapsed": false
   },
   "outputs": [
    {
     "name": "stdout",
     "output_type": "stream",
     "text": [
      "X_train.shape (668, 3360)\n",
      "X_test.shape (223, 3360)\n"
     ]
    }
   ],
   "source": [
    "print 'X_train.shape', X_train.shape\n",
    "print 'X_test.shape', X_test.shape"
   ]
  },
  {
   "cell_type": "markdown",
   "metadata": {
    "collapsed": false
   },
   "source": [
    "#print y_kaggle.shape\n",
    "#print X_transformed[891:].shape\n",
    "#list(zip(X_kaggle.PassengerId,y_kaggle.astype(int)))\n",
    "### v0.8 got me score of 0.76555\n",
    "### v1.0 scored  0.78947\n",
    "### v1.1 scored 0.80861"
   ]
  }
 ],
 "metadata": {
  "kernelspec": {
   "display_name": "Python 2",
   "language": "python",
   "name": "python2"
  },
  "language_info": {
   "codemirror_mode": {
    "name": "ipython",
    "version": 2
   },
   "file_extension": ".py",
   "mimetype": "text/x-python",
   "name": "python",
   "nbconvert_exporter": "python",
   "pygments_lexer": "ipython2",
   "version": "2.7.13"
  }
 },
 "nbformat": 4,
 "nbformat_minor": 2
}
